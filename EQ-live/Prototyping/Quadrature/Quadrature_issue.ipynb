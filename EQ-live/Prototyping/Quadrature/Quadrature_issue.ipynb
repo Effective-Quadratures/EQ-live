{
  "nbformat": 4,
  "nbformat_minor": 0,
  "metadata": {
    "colab": {
      "name": "Quadrature.ipynb",
      "provenance": [],
      "collapsed_sections": [],
      "authorship_tag": "ABX9TyOJd3OOdF9D+PJW6TrSRZ1x",
      "include_colab_link": true
    },
    "kernelspec": {
      "name": "python3",
      "display_name": "Python 3"
    }
  },
  "cells": [
    {
      "cell_type": "markdown",
      "metadata": {
        "id": "view-in-github",
        "colab_type": "text"
      },
      "source": [
        "<a href=\"https://colab.research.google.com/github/Effective-Quadratures/EQ-live/blob/master/EQ-live/Prototyping/Quadrature/Quadrature_issue.ipynb\" target=\"_parent\"><img src=\"https://colab.research.google.com/assets/colab-badge.svg\" alt=\"Open In Colab\"/></a>"
      ]
    },
    {
      "cell_type": "code",
      "metadata": {
        "id": "wpNj4YJBuV2L",
        "colab_type": "code",
        "colab": {
          "base_uri": "https://localhost:8080/",
          "height": 258
        },
        "outputId": "2bcadcfc-d662-4c8e-9baf-c19c08951a59"
      },
      "source": [
        "# Check if running on colab\n",
        "try:\n",
        "  import google.colab\n",
        "  IN_COLAB = True\n",
        "except:\n",
        "  IN_COLAB = False\n",
        "\n",
        "# pip install any missing packages\n",
        "if IN_COLAB:\n",
        "  !pip install equadratures # for standard pip install\n",
        "  #!pip install git+https://github.com/Effective-Quadratures/Effective-Quadratures.git@master # for specific branch\n",
        "\n",
        "import numpy as np                                                                                                                                                                                      \n",
        "import matplotlib.pyplot as plt\n",
        "from equadratures import *"
      ],
      "execution_count": 1,
      "outputs": [
        {
          "output_type": "stream",
          "text": [
            "Collecting equadratures\n",
            "\u001b[?25l  Downloading https://files.pythonhosted.org/packages/67/89/a7eafb6083b8d57904d67ceb909ed5c4ec2ba5f438b17aa997f970980dff/equadratures-8.1.1-py3-none-any.whl (100kB)\n",
            "\u001b[K     |████████████████████████████████| 102kB 2.2MB/s \n",
            "\u001b[?25hRequirement already satisfied: matplotlib in /usr/local/lib/python3.6/dist-packages (from equadratures) (3.2.1)\n",
            "Requirement already satisfied: numpy in /usr/local/lib/python3.6/dist-packages (from equadratures) (1.18.5)\n",
            "Requirement already satisfied: scipy>=0.15.0 in /usr/local/lib/python3.6/dist-packages (from equadratures) (1.4.1)\n",
            "Requirement already satisfied: cycler>=0.10 in /usr/local/lib/python3.6/dist-packages (from matplotlib->equadratures) (0.10.0)\n",
            "Requirement already satisfied: python-dateutil>=2.1 in /usr/local/lib/python3.6/dist-packages (from matplotlib->equadratures) (2.8.1)\n",
            "Requirement already satisfied: pyparsing!=2.0.4,!=2.1.2,!=2.1.6,>=2.0.1 in /usr/local/lib/python3.6/dist-packages (from matplotlib->equadratures) (2.4.7)\n",
            "Requirement already satisfied: kiwisolver>=1.0.1 in /usr/local/lib/python3.6/dist-packages (from matplotlib->equadratures) (1.2.0)\n",
            "Requirement already satisfied: six in /usr/local/lib/python3.6/dist-packages (from cycler>=0.10->matplotlib->equadratures) (1.12.0)\n",
            "Installing collected packages: equadratures\n",
            "Successfully installed equadratures-8.1.1\n"
          ],
          "name": "stdout"
        }
      ]
    },
    {
      "cell_type": "code",
      "metadata": {
        "id": "FaqJYBLIusqb",
        "colab_type": "code",
        "colab": {
          "base_uri": "https://localhost:8080/",
          "height": 283
        },
        "outputId": "1c0d3e6d-b067-4393-e7a1-39ce75c488ed"
      },
      "source": [
        "def fun(x):\n",
        "    return np.sin(x)\n",
        "\n",
        "MAX_VALUE = 3000\n",
        "xgrid = np.linspace(-1, 1, 500).reshape(500, 1)\n",
        "fgrid = evaluate_model(xgrid, fun)\n",
        "\n",
        "error_store = []\n",
        "error_store2 = []\n",
        "order_store = []\n",
        "\n",
        "for i in range(1, 30, 2):\n",
        "    p = Parameter(distribution='uniform', lower=-1., upper=1., order=i)\n",
        "    b = Basis('univariate')\n",
        "    poly = Poly(p, b, method='numerical-integration')\n",
        "    poly.set_model(fun)\n",
        "    f = poly.get_polyfit(xgrid)\n",
        "    error = np.linalg.norm(f - fgrid, 2)\n",
        "    error2 = np.max(np.abs(f - fgrid) )\n",
        "    error_store.append(error)\n",
        "    error_store2.append(error2)\n",
        "    order_store.append(i)\n",
        "    \n",
        "for i in range(30, MAX_VALUE, 500):\n",
        "    p = Parameter(distribution='uniform', lower=-1., upper=1., order=i)\n",
        "    b = Basis('univariate')\n",
        "    poly = Poly(p, b, method='numerical-integration')\n",
        "    poly.set_model(fun)\n",
        "    f = poly.get_polyfit(xgrid)\n",
        "    error = np.linalg.norm(f - fgrid, 2)\n",
        "    error2 = np.max(np.abs(f - fgrid) )\n",
        "    error_store.append(error)\n",
        "    error_store2.append(error2)\n",
        "    order_store.append(i)\n",
        "\n",
        "plt.loglog(order_store, error_store, 'o-')\n",
        "plt.xlabel('order (log-scale)')\n",
        "plt.ylabel('$L_2$ error (log-scale)')\n",
        "plt.show()"
      ],
      "execution_count": 4,
      "outputs": [
        {
          "output_type": "display_data",
          "data": {
            "image/png": "[encoded data removed]",
            "text/plain": [
              "<Figure size 432x288 with 1 Axes>"
            ]
          },
          "metadata": {
            "tags": [],
            "needs_background": "light"
          }
        }
      ]
    }
  ]
}