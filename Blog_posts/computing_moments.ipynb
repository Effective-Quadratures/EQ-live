{
 "cells": [
  {
   "cell_type": "markdown",
   "metadata": {},
   "source": [
    "# Uncertainty quantification of CFD simulations"
   ]
  },
  {
   "cell_type": "code",
   "execution_count": 1,
   "metadata": {},
   "outputs": [],
   "source": [
    "# Check if running on colab\n",
    "try:\n",
    "  import google.colab\n",
    "  IN_COLAB = True\n",
    "except:\n",
    "  IN_COLAB = False\n",
    "\n",
    "# pip install any missing packages\n",
    "if IN_COLAB:\n",
    "  !pip install equadratures # for standard pip install\n",
    "  #!pip install git+https://github.com/Effective-Quadratures/Effective-Quadratures.git@master # for specific branch\n",
    "\n",
    "import numpy as np                                                                                                                                                                                      \n",
    "import matplotlib.pyplot as plt\n",
    "from equadratures import *\n",
    "import scipy as sp\n",
    "from ipywidgets import *\n",
    "from copy import deepcopy\n",
    "%matplotlib inline"
   ]
  },
  {
   "cell_type": "markdown",
   "metadata": {},
   "source": [
    "## A 1D analytical example"
   ]
  },
  {
   "cell_type": "markdown",
   "metadata": {},
   "source": [
    "To start, lets define a simple 1D quadratic function to act as our model."
   ]
  },
  {
   "cell_type": "code",
   "execution_count": 197,
   "metadata": {},
   "outputs": [],
   "source": [
    "our_function = lambda s: -s**2 + s + 1 "
   ]
  },
  {
   "cell_type": "markdown",
   "metadata": {},
   "source": [
    "We have uncertainty in our definition of $s$, i.e. we only know that it lies between 0 and 1 (hence a uniform pdf). We wish to know what the uncertainty in our model output $y=f(s)$ is due to this uncertainty in $s$. We are only interested in the first two moments of the output here, the mean $\\bar{y}$ and variance $Var(y)$."
   ]
  },
  {
   "cell_type": "markdown",
   "metadata": {},
   "source": [
    "### Random sampling\n",
    "One approach to determining $\\bar{y}$ and $Var(y)$ is a Monte Carlo type method, where we evaulate the model $f(s)$ at `N` number of randomly sampled points $s$. "
   ]
  },
  {
   "cell_type": "code",
   "execution_count": 198,
   "metadata": {},
   "outputs": [
    {
     "data": {
      "application/vnd.jupyter.widget-view+json": {
       "model_id": "bb9fea99f83b4355ab46f47f1b032e47",
       "version_major": 2,
       "version_minor": 0
      },
      "text/plain": [
       "interactive(children=(IntSlider(value=5, description='N', max=1000, min=5), Button(description='Run Interact',…"
      ]
     },
     "metadata": {},
     "output_type": "display_data"
    }
   ],
   "source": [
    "N = 50\n",
    "\n",
    "def sample_function(N,f):\n",
    "    # np.random.uniform(low=L,high=H,size=N) will generate a numpy ndarray with N samples between L and H\n",
    "    s1_samples = np.random.uniform(low=0,high=1,size=N)\n",
    "\n",
    "    # Evaluate f(s) at the points contained in s1_samples\n",
    "    #y_samples = our_function(s1_samples)\n",
    "    y_samples = f(s1_samples)\n",
    "\n",
    "    # Plot our_function and the discreet samples\n",
    "    s = np.array(np.linspace(0,1,50))\n",
    "    plt.plot(s,f(s),lw=5,alpha=0.4)\n",
    "    plt.plot(s1_samples,y_samples,'xr',ms=8)\n",
    "    plt.xlabel('$s$',fontsize=15)\n",
    "    plt.ylabel('$f(s)$',fontsize=15)\n",
    "    plt.show()\n",
    "\n",
    "    # Print out the mean and variance of our sample distribution y_samples\n",
    "    mean = np.mean(y_samples)\n",
    "    var = np.var(y_samples)\n",
    "    print('Mean = %.4f, Variance = %.6f' %(mean, var))\n",
    "    true_mean = sp.integrate.quad(f, 0, 1)[0]\n",
    "    true_var = sp.integrate.quad(lambda s: f(s)**2, 0, 1)[0] -true_mean**2\n",
    "    print('Error in mean = %.1f%%, Error in variance = %.1f%%' %(100*(mean-true_mean)/true_mean, 100*(var-true_var)/true_var))\n",
    "w=interact_manual(sample_function,N=IntSlider(min=5, max=1000),f=fixed(our_function))"
   ]
  },
  {
   "cell_type": "markdown",
   "metadata": {},
   "source": [
    "You can vary $N$ above. You should find that you need a relatively large $N$ for $\\bar{y}$ and $Var(y)$ to converge, and we're still only in one dimension! For reference, the analytical values are $\\bar{y}=1.1\\dot{6}$ and $Var(y)=0.00\\dot{5}$."
   ]
  },
  {
   "cell_type": "markdown",
   "metadata": {},
   "source": [
    "### Computing moments with EQ"
   ]
  },
  {
   "cell_type": "markdown",
   "metadata": {},
   "source": [
    "Lets now use Effective Quadratures instead. As will become apparent, this involves defining: \n",
    "1. **Parameter(s)** \n",
    "2. **Basis**\n",
    "3. **Polynomial**\n",
    "\n",
    "(see https://www.effective-quadratures.org/_documentation/modules.html)\n",
    "\n",
    "Start by defining a parameter with a ``uniform`` distribution between 0 and 1."
   ]
  },
  {
   "cell_type": "code",
   "execution_count": 199,
   "metadata": {},
   "outputs": [],
   "source": [
    "s1 = Parameter(distribution='uniform', lower=0., upper=1., order=2)"
   ]
  },
  {
   "cell_type": "markdown",
   "metadata": {},
   "source": [
    "We only have one parameter so we select univariate basis."
   ]
  },
  {
   "cell_type": "code",
   "execution_count": 200,
   "metadata": {},
   "outputs": [],
   "source": [
    "mybasis = Basis('univariate')"
   ]
  },
  {
   "cell_type": "markdown",
   "metadata": {},
   "source": [
    "Now lets define our **polynomial**. The simplest ``method`` for computing the coefficients associated with this polynomial is via ``numerical-integration``. The code will use a tensor product Gaussian quadrature formula to estimate each coefficient of the underlying polynomial expansion. "
   ]
  },
  {
   "cell_type": "code",
   "execution_count": 201,
   "metadata": {},
   "outputs": [],
   "source": [
    "mypoly = Poly(parameters=s1, basis=mybasis, method='numerical-integration')"
   ]
  },
  {
   "cell_type": "markdown",
   "metadata": {},
   "source": [
    "We now need to call `mypoly.set_model()` to feed `mypoly` the training data so it can calculate the polynomial coefficients. We could do this by first getting the quadrature points with `pts = mypoly.get_points()`, then evaluating the function at these points `fs=our_function(pts)`, and finally passing this to `set_model` with `mypoly.set_model(fs)`. Alternatively we can pass `set_model()` our function directly, and it will do all this behind the scenes. "
   ]
  },
  {
   "cell_type": "code",
   "execution_count": 202,
   "metadata": {},
   "outputs": [],
   "source": [
    "mypoly.set_model(our_function)"
   ]
  },
  {
   "cell_type": "markdown",
   "metadata": {},
   "source": [
    "Home stretch! We now have a polynomial \"fit\". Lets get it from ``mypoly`` with ``get_polyfit``, and plot it. "
   ]
  },
  {
   "cell_type": "code",
   "execution_count": 203,
   "metadata": {},
   "outputs": [
    {
     "data": {
      "image/png": "[encoded data removed]",
      "text/plain": [
       "<Figure size 432x288 with 1 Axes>"
      ]
     },
     "metadata": {
      "needs_background": "light"
     },
     "output_type": "display_data"
    }
   ],
   "source": [
    "# Get the polyfit function from mypoly\n",
    "mypolyfit = mypoly.get_polyfit\n",
    "\n",
    "# Evaluate mypolyfit over 100 points between s1.lower and s2.upper (for plotting only!)\n",
    "x = np.linspace(s1.lower,s1.upper,100)\n",
    "y = mypolyfit(x)\n",
    "plt.plot(x,y,lw=5,label='Polynomial approximation')\n",
    "\n",
    "# Evaluate our_function at the quadrature points\n",
    "pts = mypoly.get_points()\n",
    "plt.plot(pts,our_function(pts),'o',ms=10,label='True model value at quadrature points')\n",
    "plt.xlabel('$s$',fontsize=15)\n",
    "plt.ylabel('$f(s)$',fontsize=15)\n",
    "plt.legend()\n",
    "plt.show()"
   ]
  },
  {
   "cell_type": "markdown",
   "metadata": {},
   "source": [
    "And the *moment* of truth..."
   ]
  },
  {
   "cell_type": "code",
   "execution_count": 204,
   "metadata": {},
   "outputs": [
    {
     "name": "stdout",
     "output_type": "stream",
     "text": [
      "Mean = 1.1667, Variance = 0.005556\n",
      "Error in mean = 0.0%, Error in variance = 0.0%\n"
     ]
    }
   ],
   "source": [
    "mean, var = mypoly.get_mean_and_variance()\n",
    "print('Mean = %.4f, Variance = %.6f' %(mean,var))\n",
    "true_mean = sp.integrate.quad(our_function, 0, 1)[0]\n",
    "true_var = sp.integrate.quad(lambda s: our_function(s)**2, 0, 1)[0] -true_mean**2\n",
    "print('Error in mean = %.1f%%, Error in variance = %.1f%%' %(100*(mean-true_mean)/true_mean, 100*(var-true_var)/true_var))"
   ]
  },
  {
   "cell_type": "markdown",
   "metadata": {},
   "source": [
    "These values should line up very closely with the analytical values $\\bar{y}=1.1\\dot{6}$ and $Var(y)=0.00\\dot{5}$. This is expected in this case, since our model is a polynomial itself. Notice how we have accurately computing the moments with far fewer model evaluations ($N$) compared to the random sampling approach."
   ]
  },
  {
   "cell_type": "markdown",
   "metadata": {},
   "source": [
    "## CFD example: UQ of a turbine blade row"
   ]
  },
  {
   "cell_type": "markdown",
   "metadata": {},
   "source": [
    "\n",
    "Blah blah blah\n",
    "\n",
    "Again, we don't have any prior knowledge of what $\\hat{\\nu}/\\nu$ should be, except for that it lies in the range 1 to 100, so lets set it as a uniform distribution.\n",
    "\n",
    "The turbulence intensity is easier to measure, so could know it is somewhere around $Ti \\approx 10\\%$ (as an example), but don't have much confidence in this. Therefore lets define it as a Gaussian with mean=10 and variance=5.  "
   ]
  },
  {
   "cell_type": "code",
   "execution_count": 205,
   "metadata": {},
   "outputs": [],
   "source": [
    "s1 = Parameter(distribution='uniform', lower=1.0, upper=100, order=3) #turb2lamviscosity\n",
    "s2 = Parameter(distribution='Gaussian', shape_parameter_A=10, shape_parameter_B=5, order=3) #Ti"
   ]
  },
  {
   "cell_type": "code",
   "execution_count": 206,
   "metadata": {},
   "outputs": [
    {
     "data": {
      "image/png": "[encoded data removed]",
      "text/plain": [
       "<Figure size 432x288 with 1 Axes>"
      ]
     },
     "metadata": {
      "needs_background": "light"
     },
     "output_type": "display_data"
    }
   ],
   "source": [
    "# PDF of s2 is plotted here\n",
    "z2_samples = s2.get_samples(9000)\n",
    "n, bins, patches = plt.hist(z2_samples, 50, density=True, facecolor='lime', alpha=0.75, edgecolor='k')\n",
    "plt.xlabel(r'$Ti (\\%)$', fontsize=15)\n",
    "plt.ylabel('PDF', fontsize=15)\n",
    "plt.show()"
   ]
  },
  {
   "cell_type": "markdown",
   "metadata": {},
   "source": [
    "Next we define a Basis and Poly, like before. This time the problem is bivariate, lets keep it simple and choose a `tensor-grid` basis."
   ]
  },
  {
   "cell_type": "code",
   "execution_count": 207,
   "metadata": {},
   "outputs": [],
   "source": [
    "mybasis = Basis('tensor-grid')\n",
    "mypoly = Poly(parameters=[s1,s2], basis=mybasis, method='numerical-integration')"
   ]
  },
  {
   "cell_type": "markdown",
   "metadata": {},
   "source": [
    "In the previous example our model was a simple analytical function, which we could pass directly to `set_model` for it to evaluate at the quadrature points. This time, our model is a real CFD simulation. We need to obtain the quadrature points (which are the $\\hat{\\nu}/\\nu$ and $Ti$ inflow conditions for each simulation), and go away and run the CFD. "
   ]
  },
  {
   "cell_type": "code",
   "execution_count": 208,
   "metadata": {},
   "outputs": [
    {
     "name": "stdout",
     "output_type": "stream",
     "text": [
      "Viscosity ratio \t Ti\n",
      "[[ 7.87375258  4.78009112]\n",
      " [ 7.87375258  8.34091854]\n",
      " [ 7.87375258 11.65908146]\n",
      " [ 7.87375258 15.21990888]\n",
      " [33.67093834  4.78009112]\n",
      " [33.67093834  8.34091854]\n",
      " [33.67093834 11.65908146]\n",
      " [33.67093834 15.21990888]\n",
      " [67.32906166  4.78009112]\n",
      " [67.32906166  8.34091854]\n",
      " [67.32906166 11.65908146]\n",
      " [67.32906166 15.21990888]\n",
      " [93.12624742  4.78009112]\n",
      " [93.12624742  8.34091854]\n",
      " [93.12624742 11.65908146]\n",
      " [93.12624742 15.21990888]]\n"
     ]
    },
    {
     "data": {
      "image/png": "[encoded data removed]",
      "text/plain": [
       "<Figure size 432x288 with 1 Axes>"
      ]
     },
     "metadata": {
      "needs_background": "light"
     },
     "output_type": "display_data"
    }
   ],
   "source": [
    "# Get the DOE points\n",
    "pts = mypoly.get_points()\n",
    "\n",
    "# Print and save to file\n",
    "print('Viscosity ratio \\t Ti')\n",
    "print(pts)\n",
    "np.save('points_to_run.npy', pts)\n",
    "\n",
    "# Plot the DOE points\n",
    "plt.plot(pts[:,0], pts[:,1], 'bo', markersize=15)\n",
    "plt.xlabel(r'$\\hat{\\nu}/\\nu$', fontsize=15)\n",
    "plt.ylabel(r'$Ti (\\%)$', fontsize=15)\n",
    "plt.show()"
   ]
  },
  {
   "cell_type": "markdown",
   "metadata": {},
   "source": [
    "The above plot shows our Design of Experiment (DoE). It is relatively straightforward to take the `points_to_run.npy` file and go away and run a set of CFD simulations at these DoE points (especially with the python wrapper functionality of the [SU2](https://su2code.github.io/) CFD code!). The `lossarray_sst.npy` file located in the same directory as this notebook contains the loss coefficient $Y_p$ results obtained by doing exactly this with SU2. \n",
    "\n",
    "Lets load up the loss coefficient $Y_p$ values for our DoE, and pass this data to `mypoly` with `set_model`. "
   ]
  },
  {
   "cell_type": "code",
   "execution_count": 209,
   "metadata": {},
   "outputs": [
    {
     "name": "stdout",
     "output_type": "stream",
     "text": [
      "SA ratio \t Ti \t\t Y_p\n",
      "[[7.87375258e+00 4.78009112e+00 5.30310580e-02]\n",
      " [7.87375258e+00 8.34091854e+00 5.28644236e-02]\n",
      " [7.87375258e+00 1.16590815e+01 5.26925252e-02]\n",
      " [7.87375258e+00 1.52199089e+01 5.24967211e-02]\n",
      " [3.36709383e+01 4.78009112e+00 5.32419115e-02]\n",
      " [3.36709383e+01 8.34091854e+00 5.32333854e-02]\n",
      " [3.36709383e+01 1.16590815e+01 5.30672169e-02]\n",
      " [3.36709383e+01 1.52199089e+01 5.28340593e-02]\n",
      " [6.73290617e+01 4.78009112e+00 5.32581624e-02]\n",
      " [6.73290617e+01 8.34091854e+00 5.33894321e-02]\n",
      " [6.73290617e+01 1.16590815e+01 5.32981622e-02]\n",
      " [6.73290617e+01 1.52199089e+01 5.30067064e-02]\n",
      " [9.31262474e+01 4.78009112e+00 5.32606790e-02]\n",
      " [9.31262474e+01 8.34091854e+00 5.34980151e-02]\n",
      " [9.31262474e+01 1.16590815e+01 5.34417742e-02]\n",
      " [9.31262474e+01 1.52199089e+01 5.32224419e-02]]\n"
     ]
    }
   ],
   "source": [
    "# Load the Yp array from file\n",
    "if IN_COLAB: \n",
    "  !wget https://raw.githubusercontent.com/Effective-Quadratures/EQ-live/master/Blog_posts/lossarray_sst.npy -O lossarray_sst.npy\n",
    "Yp = np.load('lossarray_sst.npy').reshape(-1, 1)\n",
    "\n",
    "# Print the Yp array\n",
    "print('SA ratio \\t Ti \\t\\t Y_p')\n",
    "print(np.hstack([pts,Yp]))\n",
    "\n",
    "mypoly.set_model(Yp)"
   ]
  },
  {
   "cell_type": "markdown",
   "metadata": {},
   "source": [
    "Now all that remains is to compute the mean and variance of $Y_p$."
   ]
  },
  {
   "cell_type": "code",
   "execution_count": 210,
   "metadata": {},
   "outputs": [
    {
     "name": "stdout",
     "output_type": "stream",
     "text": [
      "Mean Yp = 0.053\n",
      "95% confidence interval for Yp = 0.00047 (0.88%)\n"
     ]
    }
   ],
   "source": [
    "mean, var = mypoly.get_mean_and_variance()\n",
    "print('Mean Yp = %.2g' %(mean))\n",
    "print('95%% confidence interval for Yp = %.2g (%.2g%%)' %(1.96*np.sqrt(var),100*1.96*np.sqrt(var)/mean))"
   ]
  },
  {
   "cell_type": "markdown",
   "metadata": {},
   "source": [
    "So our 95% confidence interval due to uncertainty in inflow turbulence speficiation is $Y_p\\pm 0.00047$. This seems small but is actually 0.88% of the mean $Y_p$ value, so may be significant depending on your use case. "
   ]
  },
  {
   "cell_type": "markdown",
   "metadata": {},
   "source": [
    "### Checking the accuracy of the polynomial approximation"
   ]
  },
  {
   "cell_type": "markdown",
   "metadata": {},
   "source": [
    "A word of warning here. Accurate computed moments rely on the polynomial approximation being accurate. We have ommited checks of the polynomial accuracy so far for brevity, but usually this would be done before we call `get_mean_and_variance`. These checks would usually involve checking the $R^2$ score and/or Root Mean Squared Error (RMSE) at the quadrature points."
   ]
  },
  {
   "cell_type": "code",
   "execution_count": 211,
   "metadata": {},
   "outputs": [
    {
     "name": "stdout",
     "output_type": "stream",
     "text": [
      "R2 = 1, RMSE = 3.49e-16\n"
     ]
    }
   ],
   "source": [
    "y_pred = mypoly.get_polyfit(pts).squeeze()\n",
    "y_true = Yp.squeeze()\n",
    "# R2\n",
    "_,_,r_value,_,_ = sp.stats.linregress(y_pred,y_true)\n",
    "RMSE = np.sqrt(np.mean((y_pred-y_true)**2))\n",
    "print('R2 = %.3g, RMSE = %.3g' %(r_value**2,RMSE))"
   ]
  },
  {
   "cell_type": "markdown",
   "metadata": {},
   "source": [
    "So we are happy with the accuracy in this case!\n",
    "\n",
    "**Note**: Since we have checked accuracy at the quadrature points, these scores can be thought of as *training accuracy* metrics. If we had selected higher `order` parameters we would be at risk of overfitting, and it would important to monitor *test accuracy* by holding out data or using cross validation. This will be the topic of a future blog post!"
   ]
  },
  {
   "cell_type": "markdown",
   "metadata": {},
   "source": [
    "### Dealing with invalid simulation results"
   ]
  },
  {
   "cell_type": "markdown",
   "metadata": {},
   "source": [
    "Any CFD practitioner is probably all too familiar with CFD simulations not converging! So what happens to the above procedure in this case? To investigate, we set a number of our DoE samples to NaN."
   ]
  },
  {
   "cell_type": "code",
   "execution_count": 212,
   "metadata": {},
   "outputs": [
    {
     "data": {
      "image/png": "[encoded data removed]",
      "text/plain": [
       "<Figure size 432x288 with 1 Axes>"
      ]
     },
     "metadata": {
      "needs_background": "light"
     },
     "output_type": "display_data"
    }
   ],
   "source": [
    "# Enter list of points you want to set to NaN here (0 to 15)\n",
    "indices = [1,7,9,14]\n",
    "indices_to_set_to_NaN = np.asarray(indices)\n",
    "\n",
    "# Set chosen points to NaN\n",
    "Yp_with_NaNs = deepcopy(Yp)\n",
    "Yp_with_NaNs[indices_to_set_to_NaN] = np.nan * indices_to_set_to_NaN.reshape(len(indices_to_set_to_NaN),1)\n",
    "\n",
    "# Plot the DOE points\n",
    "NaN = np.isnan(Yp_with_NaNs).flatten()\n",
    "plt.plot(pts[~NaN,0], pts[~NaN,1], 'bo', markersize=15,label='Not NaN')\n",
    "plt.plot(pts[NaN,0], pts[NaN,1], 'rx', markersize=15,label='NaN')\n",
    "plt.xlabel(r'$\\hat{\\nu}/\\nu$', fontsize=15)\n",
    "plt.ylabel(r'$Ti (\\%)$', fontsize=15)\n",
    "plt.legend(loc='upper center')\n",
    "plt.ylim([2,20])\n",
    "plt.show()"
   ]
  },
  {
   "cell_type": "markdown",
   "metadata": {},
   "source": [
    "Now pass the ``Yp_with_NaNs`` array to ``mypoly`` with ``set_model()``."
   ]
  },
  {
   "cell_type": "code",
   "execution_count": 213,
   "metadata": {},
   "outputs": [
    {
     "name": "stdout",
     "output_type": "stream",
     "text": [
      "WARNING: One or more of your model evaluations have resulted in an NaN. We found 4 NaNs out of 16.\n",
      "The code will now use a least-squares technique that will ignore input-output pairs of your model that have NaNs. This will likely compromise computed statistics.\n"
     ]
    }
   ],
   "source": [
    "mypoly_NaN = deepcopy(mypoly)\n",
    "mypoly_NaN.set_model(Yp_with_NaNs)"
   ]
  },
  {
   "cell_type": "markdown",
   "metadata": {},
   "source": [
    "So the code has automatically detected that some of the model evaluations are NaN, and it has switched to a least-squares technique which can cope with missing samples. Lets compute the moments and see how accurate they are compared to the case without NaNs."
   ]
  },
  {
   "cell_type": "code",
   "execution_count": 214,
   "metadata": {},
   "outputs": [
    {
     "name": "stdout",
     "output_type": "stream",
     "text": [
      "Original  Mean = 0.0532, Original  confidence interval = 0.881%\n",
      "With NaNs Mean = 0.0532, with NaNs confidence interval = 0.873%\n",
      "Errors as a % of original values: mean = 0.019%, variance = -1.755%\n"
     ]
    }
   ],
   "source": [
    "# Compute moments\n",
    "mean_with_NaNs, var_with_NaNs = mypoly_NaN.get_mean_and_variance()\n",
    "\n",
    "# Print\n",
    "print('Original  Mean = %.3g, Original  confidence interval = %.3g%%' %(mean,100*1.96*np.sqrt(var)/mean))\n",
    "print('With NaNs Mean = %.3g, with NaNs confidence interval = %.3g%%' %(mean_with_NaNs,100*1.96*np.sqrt(var_with_NaNs)/mean_with_NaNs))\n",
    "err_mean = 100.*(mean_with_NaNs-mean)/mean\n",
    "err_var  = 100.*(var_with_NaNs -var) /var\n",
    "print('Errors as a %% of original values: mean = %.3f%%, variance = %.3f%%' %(err_mean,err_var))"
   ]
  },
  {
   "cell_type": "markdown",
   "metadata": {},
   "source": [
    "So hopefully not too bad! As long as we don't have too many invalid samples..."
   ]
  },
  {
   "cell_type": "markdown",
   "metadata": {},
   "source": [
    "### Sensitivity analysis"
   ]
  },
  {
   "cell_type": "markdown",
   "metadata": {},
   "source": [
    "As covered by a previous [blog post](https://discourse.effective-quadratures.org/t/sensitivity-analysis-with-effective-quadratures/30), `get_sobol_indices` computes the Sobol indices, which quantify the sensitivity of the model output to the input parameters. \n",
    "\n",
    "We now do this for the first order sobol indices $S_i$."
   ]
  },
  {
   "cell_type": "code",
   "execution_count": 215,
   "metadata": {},
   "outputs": [
    {
     "data": {
      "text/plain": [
       "{(0,): 0.8402230587096422, (1,): 0.13229796898549417}"
      ]
     },
     "execution_count": 215,
     "metadata": {},
     "output_type": "execute_result"
    }
   ],
   "source": [
    "mypoly.get_sobol_indices(order=1)"
   ]
  },
  {
   "cell_type": "markdown",
   "metadata": {},
   "source": [
    "Clearly, $Y_p$ is significantly more sensitive to $s_1$ ($\\nu_t/\\nu$) than $s_2$ ($Ti$). This is potentially a problem when we are looking to run CFD simulations of this nature, since ($\\nu_t/\\nu$) is more difficult to measure, so we often don't have a good idea of what its value should be. "
   ]
  },
  {
   "cell_type": "markdown",
   "metadata": {},
   "source": [
    "### Visualising the response surface"
   ]
  },
  {
   "cell_type": "markdown",
   "metadata": {},
   "source": [
    "We can obtain a a surrogate model $\\hat{f}(s_1,s_2)$ from ``mypoly`` with ``get_polyfit``. Lets plot this to visualise the model's response to our parameters $s_1$ and $s_2$. "
   ]
  },
  {
   "cell_type": "code",
   "execution_count": 2,
   "metadata": {},
   "outputs": [
    {
     "ename": "NameError",
     "evalue": "name 'mypoly' is not defined",
     "output_type": "error",
     "traceback": [
      "\u001b[0;31m---------------------------------------------------------------------------\u001b[0m",
      "\u001b[0;31mNameError\u001b[0m                                 Traceback (most recent call last)",
      "\u001b[0;32m<ipython-input-2-dedc90bbdefa>\u001b[0m in \u001b[0;36m<module>\u001b[0;34m\u001b[0m\n\u001b[1;32m      1\u001b[0m \u001b[0;31m# Get the mypolyfit model\u001b[0m\u001b[0;34m\u001b[0m\u001b[0;34m\u001b[0m\u001b[0m\n\u001b[0;32m----> 2\u001b[0;31m \u001b[0mmypolyfit\u001b[0m \u001b[0;34m=\u001b[0m \u001b[0mmypoly\u001b[0m\u001b[0;34m.\u001b[0m\u001b[0mget_polyfit\u001b[0m\u001b[0;34m\u001b[0m\u001b[0m\n\u001b[0m\u001b[1;32m      3\u001b[0m \u001b[0;34m\u001b[0m\u001b[0m\n\u001b[1;32m      4\u001b[0m \u001b[0;31m# Get the sampling points\u001b[0m\u001b[0;34m\u001b[0m\u001b[0;34m\u001b[0m\u001b[0m\n\u001b[1;32m      5\u001b[0m \u001b[0mpts\u001b[0m \u001b[0;34m=\u001b[0m \u001b[0mmypoly\u001b[0m\u001b[0;34m.\u001b[0m\u001b[0mget_points\u001b[0m\u001b[0;34m(\u001b[0m\u001b[0;34m)\u001b[0m\u001b[0;34m\u001b[0m\u001b[0m\n",
      "\u001b[0;31mNameError\u001b[0m: name 'mypoly' is not defined"
     ]
    }
   ],
   "source": [
    "# Get the mypolyfit model\n",
    "mypolyfit = mypoly.get_polyfit\n",
    "\n",
    "# Get the sampling points\n",
    "pts = mypoly.get_points()\n",
    "\n",
    "# PLOTTING STUFF BELOW - CAN IGNORE!\n",
    "# Sample the polyfit at N number of points so we can plot it\n",
    "N = 20\n",
    "s1_samples = np.linspace(pts[0,0], pts[-1,0], N)\n",
    "s2_samples = np.linspace(pts[0,1], pts[-1,1], N)\n",
    "[S1, S2] = np.meshgrid(s1_samples, s2_samples)\n",
    "S1_vec = np.reshape(S1, (N*N, 1))\n",
    "S2_vec = np.reshape(S2, (N*N, 1))\n",
    "samples = np.hstack([S1_vec, S2_vec])\n",
    "PolyDiscreet = mypolyfit( samples )\n",
    "PolyDiscreet = np.reshape(PolyDiscreet, (N, N))\n",
    "\n",
    "# Init a 3d graph\n",
    "if not IN_COLAB: \n",
    "  %matplotlib notebook\n",
    "from mpl_toolkits.mplot3d import axes3d\n",
    "from matplotlib import cm\n",
    "fig = plt.figure(figsize=(10,10))\n",
    "ax = fig.add_subplot(111, projection='3d')\n",
    "\n",
    "# Plot the discretised poly PolyDiscreet as a surface\n",
    "surf = ax.plot_surface(S1, S2, PolyDiscreet, rstride=1, cstride=1, cmap=cm.gist_earth, linewidth=0, alpha=0.6, label='Tensor grid')\n",
    "# Plot the actual doe points as black circles\n",
    "scatter = ax.scatter(pts[:,0],pts[:,1],Yp, c='k', marker='o')\n",
    "\n",
    "ax.set_xlabel(r'$\\frac{\\nu_t}{\\nu}$', fontsize=15)\n",
    "ax.set_ylabel(r'$Ti$ ($\\%$)', fontsize=15)\n",
    "ax.set_zlabel(r'$Y_p$', fontsize=15)\n",
    "ax.view_init(15, 25)\n",
    "plt.show()"
   ]
  },
  {
   "cell_type": "code",
   "execution_count": null,
   "metadata": {},
   "outputs": [],
   "source": []
  }
 ],
 "metadata": {
  "kernelspec": {
   "display_name": "Python 3",
   "language": "python",
   "name": "python3"
  },
  "language_info": {
   "codemirror_mode": {
    "name": "ipython",
    "version": 3
   },
   "file_extension": ".py",
   "mimetype": "text/x-python",
   "name": "python",
   "nbconvert_exporter": "python",
   "pygments_lexer": "ipython3",
   "version": "3.7.0"
  }
 },
 "nbformat": 4,
 "nbformat_minor": 2
}
